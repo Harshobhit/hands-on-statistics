{
 "cells": [
  {
   "cell_type": "markdown",
   "id": "ffd55ffd",
   "metadata": {},
   "source": [
    "### Importing Necessary Libraries"
   ]
  },
  {
   "cell_type": "code",
   "execution_count": 13,
   "id": "0e867b6a",
   "metadata": {},
   "outputs": [],
   "source": [
    "import numpy as np\n",
    "import pandas as pd\n",
    "from scipy.stats import trim_mean\n",
    "from statsmodels import robust\n",
    "import matplotlib"
   ]
  },
  {
   "cell_type": "code",
   "execution_count": 2,
   "id": "422fdc20",
   "metadata": {},
   "outputs": [
    {
     "data": {
      "text/html": [
       "<div>\n",
       "<style scoped>\n",
       "    .dataframe tbody tr th:only-of-type {\n",
       "        vertical-align: middle;\n",
       "    }\n",
       "\n",
       "    .dataframe tbody tr th {\n",
       "        vertical-align: top;\n",
       "    }\n",
       "\n",
       "    .dataframe thead th {\n",
       "        text-align: right;\n",
       "    }\n",
       "</style>\n",
       "<table border=\"1\" class=\"dataframe\">\n",
       "  <thead>\n",
       "    <tr style=\"text-align: right;\">\n",
       "      <th></th>\n",
       "      <th>State</th>\n",
       "      <th>Population</th>\n",
       "      <th>Murder.Rate</th>\n",
       "      <th>Abbreviation</th>\n",
       "    </tr>\n",
       "  </thead>\n",
       "  <tbody>\n",
       "    <tr>\n",
       "      <th>0</th>\n",
       "      <td>Alabama</td>\n",
       "      <td>4779736</td>\n",
       "      <td>5.7</td>\n",
       "      <td>AL</td>\n",
       "    </tr>\n",
       "    <tr>\n",
       "      <th>1</th>\n",
       "      <td>Alaska</td>\n",
       "      <td>710231</td>\n",
       "      <td>5.6</td>\n",
       "      <td>AK</td>\n",
       "    </tr>\n",
       "    <tr>\n",
       "      <th>2</th>\n",
       "      <td>Arizona</td>\n",
       "      <td>6392017</td>\n",
       "      <td>4.7</td>\n",
       "      <td>AZ</td>\n",
       "    </tr>\n",
       "    <tr>\n",
       "      <th>3</th>\n",
       "      <td>Arkansas</td>\n",
       "      <td>2915918</td>\n",
       "      <td>5.6</td>\n",
       "      <td>AR</td>\n",
       "    </tr>\n",
       "    <tr>\n",
       "      <th>4</th>\n",
       "      <td>California</td>\n",
       "      <td>37253956</td>\n",
       "      <td>4.4</td>\n",
       "      <td>CA</td>\n",
       "    </tr>\n",
       "  </tbody>\n",
       "</table>\n",
       "</div>"
      ],
      "text/plain": [
       "        State  Population  Murder.Rate Abbreviation\n",
       "0     Alabama     4779736          5.7           AL\n",
       "1      Alaska      710231          5.6           AK\n",
       "2     Arizona     6392017          4.7           AZ\n",
       "3    Arkansas     2915918          5.6           AR\n",
       "4  California    37253956          4.4           CA"
      ]
     },
     "execution_count": 2,
     "metadata": {},
     "output_type": "execute_result"
    }
   ],
   "source": [
    "state = pd.read_csv('data/state.csv')\n",
    "state.head()"
   ]
  },
  {
   "cell_type": "markdown",
   "id": "b0b77962",
   "metadata": {},
   "source": [
    "<b>state.csv</b> represents murder rate across different US states."
   ]
  },
  {
   "cell_type": "markdown",
   "id": "ec66927e",
   "metadata": {},
   "source": [
    "### Exploratory Data Analysis"
   ]
  },
  {
   "cell_type": "markdown",
   "id": "8de96428",
   "metadata": {},
   "source": [
    "#### Location Estimates of Population and Murder Rates"
   ]
  },
  {
   "cell_type": "code",
   "execution_count": 9,
   "id": "70261ecd",
   "metadata": {},
   "outputs": [
    {
     "data": {
      "text/plain": [
       "np.float64(6162876.3)"
      ]
     },
     "execution_count": 9,
     "metadata": {},
     "output_type": "execute_result"
    }
   ],
   "source": [
    "state['Population'].mean()"
   ]
  },
  {
   "cell_type": "code",
   "execution_count": null,
   "id": "2ab319f4",
   "metadata": {},
   "outputs": [
    {
     "data": {
      "text/plain": [
       "np.float64(4783697.125)"
      ]
     },
     "execution_count": 12,
     "metadata": {},
     "output_type": "execute_result"
    }
   ],
   "source": [
    "trim_mean(state['Population'],0.1) #Removing 10% from upper and lower half"
   ]
  },
  {
   "cell_type": "markdown",
   "id": "64580ce3",
   "metadata": {},
   "source": [
    "- As expected standard mean can be sensitive to outliers.\n",
    "- An average of 4 lakh population is there across different states in US."
   ]
  },
  {
   "cell_type": "code",
   "execution_count": 4,
   "id": "1543e313",
   "metadata": {},
   "outputs": [
    {
     "data": {
      "text/plain": [
       "np.float64(4.066)"
      ]
     },
     "execution_count": 4,
     "metadata": {},
     "output_type": "execute_result"
    }
   ],
   "source": [
    "np.mean(state['Murder.Rate'])"
   ]
  },
  {
   "cell_type": "code",
   "execution_count": 13,
   "id": "2f874b7a",
   "metadata": {},
   "outputs": [
    {
     "data": {
      "text/plain": [
       "np.float64(4.445833981123393)"
      ]
     },
     "execution_count": 13,
     "metadata": {},
     "output_type": "execute_result"
    }
   ],
   "source": [
    "np.average(state['Murder.Rate'], weights=state['Population'])"
   ]
  },
  {
   "cell_type": "markdown",
   "id": "c015e3bd",
   "metadata": {},
   "source": [
    "- We use weighted mean in this case since population is different across different states which would indirectly affect the Murder rate.States with higher number of population should have a greater say when we want to calculate average murder rate."
   ]
  },
  {
   "cell_type": "markdown",
   "id": "58334b03",
   "metadata": {},
   "source": [
    "### Variability Estimates Of State Population"
   ]
  },
  {
   "cell_type": "code",
   "execution_count": 8,
   "id": "27ffa23f",
   "metadata": {},
   "outputs": [
    {
     "name": "stdout",
     "output_type": "stream",
     "text": [
      "Standard Deviation is 6848235.347401142\n",
      "InterQuantile range is  4847308.0\n",
      "Median Absolute Deviation 3849876.1459979336\n"
     ]
    }
   ],
   "source": [
    "print(f'Standard Deviation is {state['Population'].std()}')\n",
    "\n",
    "print(f'InterQuantile range is  {state['Population'].quantile(0.75)- state['Population'].quantile(0.25)}')\n",
    "\n",
    "print(f'Median Absolute Deviation {robust.scale.mad(state['Population'])}')"
   ]
  },
  {
   "cell_type": "markdown",
   "id": "efa2103f",
   "metadata": {},
   "source": [
    "- As expected Standard deviation would be sensitive to outliers. \n",
    "- Median absolute deviation provides a better picture here as it is not sensitive to outliers."
   ]
  },
  {
   "cell_type": "markdown",
   "id": "c27cb3aa",
   "metadata": {},
   "source": [
    "#### Percentiles of murder rate by state"
   ]
  },
  {
   "cell_type": "code",
   "execution_count": 18,
   "id": "1133db1c",
   "metadata": {},
   "outputs": [
    {
     "data": {
      "text/plain": [
       "Text(0, 0.5, 'Population (millions)')"
      ]
     },
     "execution_count": 18,
     "metadata": {},
     "output_type": "execute_result"
    },
    {
     "data": {
      "image/png": "[encoded data removed]",
      "text/plain": [
       "<Figure size 640x480 with 1 Axes>"
      ]
     },
     "metadata": {},
     "output_type": "display_data"
    }
   ],
   "source": [
    "ax = (state['Population']/1000000).plot.box()\n",
    "ax.set_ylabel('Population (millions)')"
   ]
  },
  {
   "cell_type": "markdown",
   "id": "16f9a450",
   "metadata": {},
   "source": [
    "- Median state population is about 5 million.\n",
    "- Almost 75% of state population is below 6 million.\n",
    "- There seem to be some outliers as indicate by circles in above box plot.\n"
   ]
  },
  {
   "cell_type": "code",
   "execution_count": null,
   "id": "5951f729",
   "metadata": {},
   "outputs": [],
   "source": []
  }
 ],
 "metadata": {
  "kernelspec": {
   "display_name": "venv",
   "language": "python",
   "name": "python3"
  },
  "language_info": {
   "codemirror_mode": {
    "name": "ipython",
    "version": 3
   },
   "file_extension": ".py",
   "mimetype": "text/x-python",
   "name": "python",
   "nbconvert_exporter": "python",
   "pygments_lexer": "ipython3",
   "version": "3.13.8"
  }
 },
 "nbformat": 4,
 "nbformat_minor": 5
}
